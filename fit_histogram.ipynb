{
 "cells": [
  {
   "cell_type": "markdown",
   "id": "404dad1d-6b49-4fed-98f8-a69183a53983",
   "metadata": {},
   "source": [
    "# Fit histogram"
   ]
  },
  {
   "cell_type": "markdown",
   "id": "9fde5020-fb60-456e-a355-7e66757f72e6",
   "metadata": {},
   "source": [
    "We now want to fit data that in which the elements of the dependent variable Y follow a Poisson distribution. \n",
    "The most common application is a histogram. In this case, the X variable represents the bin centers, and Y the bin counts."
   ]
  },
  {
   "cell_type": "markdown",
   "id": "00e9efcf-065a-4f3a-8dfe-8b6c26e173fe",
   "metadata": {},
   "source": [
    "Let us start with the data to fit:"
   ]
  },
  {
   "cell_type": "code",
   "execution_count": null,
   "id": "2025b31c-7d5e-4133-aea2-2703cd654098",
   "metadata": {},
   "outputs": [],
   "source": [
    "import numpy as np\n",
    "xdata = np.linspace(start=-2.9, stop=2.9, num=30)\n",
    "nevents = np.array([0, 2, 5, 8, 7, 18, 15, 27, 34, 51, 55, 63, 67, 75, 90, 78, 73, 70, 62, 51, 33, 26, 30, 17, 15, 14,\n",
    "                    5, 4, 1, 0])"
   ]
  },
  {
   "cell_type": "markdown",
   "id": "fca7daa2-8916-48ce-b38f-fa2f9ec89166",
   "metadata": {},
   "source": [
    "We will fit the data with a normal distribution:"
   ]
  },
  {
   "cell_type": "code",
   "execution_count": null,
   "id": "283fe566-6ba2-4204-95da-4e7ff1e5e6c0",
   "metadata": {},
   "outputs": [],
   "source": [
    "from scipy.stats import norm\n",
    "def fit_model(x, par):\n",
    "    return par[0] * norm.pdf(x, loc=par[1], scale=par[2])"
   ]
  },
  {
   "cell_type": "markdown",
   "id": "6278b86d-e153-41c7-8828-6d384a407090",
   "metadata": {},
   "source": [
    "The model has three free paramaters: \n",
    "1. Normalization\n",
    "2. Mean\n",
    "3. Standard deviation"
   ]
  },
  {
   "cell_type": "markdown",
   "id": "2ed5d0e9-57e3-47a5-abaa-1e71e1eec62b",
   "metadata": {},
   "source": [
    "We create a fitter for our data with the `Poisson` class:"
   ]
  },
  {
   "cell_type": "markdown",
   "id": "afb1b8f8-4fc3-4d04-be04-2cfb82bc0a36",
   "metadata": {},
   "source": [
    "Install with: `pip install likefit`\n"
   ]
  },
  {
   "cell_type": "code",
   "execution_count": null,
   "id": "4a8f2c21-1a3c-4f8a-8f6b-dd8bb125d494",
   "metadata": {},
   "outputs": [],
   "source": [
    "import likefit\n",
    "fitter = likefit.Poisson(xdata, nevents, fit_model)"
   ]
  },
  {
   "cell_type": "markdown",
   "id": "777f77a4-7993-4f7c-8800-8bf61611eb54",
   "metadata": {},
   "source": [
    "We then fit the data:"
   ]
  },
  {
   "cell_type": "code",
   "execution_count": null,
   "id": "20c88405-6f9f-4273-818a-764c473985af",
   "metadata": {},
   "outputs": [],
   "source": [
    "initial_parameters = np.array([1, 0, 1])\n",
    "fit_status = fitter.fit(initial_parameters)\n",
    "print(fit_status)"
   ]
  },
  {
   "cell_type": "markdown",
   "id": "5b218693-be96-4aff-a991-49318b05cde0",
   "metadata": {},
   "source": [
    "and print the results,"
   ]
  },
  {
   "cell_type": "code",
   "execution_count": null,
   "id": "7820e1af-aa40-49b4-b903-260362749e0e",
   "metadata": {},
   "outputs": [],
   "source": [
    "fitter.print_results()"
   ]
  },
  {
   "cell_type": "code",
   "execution_count": null,
   "id": "feba529f-b295-48fa-9f93-794572cdd26d",
   "metadata": {},
   "outputs": [],
   "source": [
    "estimators = fitter.get_estimators()\n",
    "errors = fitter.get_errors()\n",
    "print(f\"Normalization: {estimators[0]:.1f} ± {errors[0]:.1f}\")\n",
    "print(f\"Mean: {estimators[1]:.3f} ± {errors[1]:.3f}\")\n",
    "print(f\"Standard deviation: {estimators[2]:.3f} ± {errors[2]:.3f}\")"
   ]
  },
  {
   "cell_type": "markdown",
   "id": "48ebea92-9e2c-4865-8e8e-81e9c671becd",
   "metadata": {},
   "source": [
    "We finish by plotting the fit"
   ]
  },
  {
   "cell_type": "code",
   "execution_count": null,
   "id": "5405d43a-ead9-455b-84b4-75cdd98a59d5",
   "metadata": {},
   "outputs": [],
   "source": [
    "import danatools\n",
    "import matplotlib.pyplot as plt\n",
    "fig, ax = plt.subplots()\n",
    "fitter.plot_fit(xlabel=\"x\", ylabel=\"Counts\", ax=ax)\n",
    "# fig.savefig(\"fit_histogram1.svg\")"
   ]
  },
  {
   "cell_type": "code",
   "execution_count": null,
   "id": "cd94497c-2e3c-433a-bb6c-c837e7499835",
   "metadata": {},
   "outputs": [],
   "source": [
    "help(fitter.plot_fit)"
   ]
  },
  {
   "cell_type": "code",
   "execution_count": null,
   "id": "b5cb0a91-6a1e-47ac-ac22-de8650d5a2d0",
   "metadata": {},
   "outputs": [],
   "source": [
    "import matplotlib.pyplot as plt\n",
    "fig, ax = plt.subplots()\n",
    "ax.set_xlabel(\"Normalization\")\n",
    "ax.set_ylabel(\"Mean\")\n",
    "fitter.plot_confidence_regions(parx_index=0, pary_index=1, ax=ax)\n",
    "# fig.savefig(\"fit_histogram2.svg\")"
   ]
  },
  {
   "cell_type": "code",
   "execution_count": null,
   "id": "50cc488a-4418-4af1-ab29-838e7bf02b7e",
   "metadata": {},
   "outputs": [],
   "source": []
  }
 ],
 "metadata": {
  "kernelspec": {
   "display_name": "demos",
   "language": "python",
   "name": "demos"
  },
  "language_info": {
   "codemirror_mode": {
    "name": "ipython",
    "version": 3
   },
   "file_extension": ".py",
   "mimetype": "text/x-python",
   "name": "python",
   "nbconvert_exporter": "python",
   "pygments_lexer": "ipython3",
   "version": "3.10.12"
  }
 },
 "nbformat": 4,
 "nbformat_minor": 5
}
