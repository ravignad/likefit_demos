{
 "cells": [
  {
   "cell_type": "markdown",
   "id": "a67f687c-7c4e-48b7-baa9-23b23a932a35",
   "metadata": {},
   "source": [
    "# Linear least-squares regression"
   ]
  },
  {
   "cell_type": "markdown",
   "id": "44eb7731-fa8b-4563-a877-79476cbbcff2",
   "metadata": {},
   "source": [
    "## Data"
   ]
  },
  {
   "cell_type": "markdown",
   "id": "86b47b74-cc40-4578-9aa4-7c0a0c97c5c3",
   "metadata": {},
   "source": [
    "A data fit problem involves two sets of variables:\n",
    "\n",
    "- A set of independent variables X\n",
    "- A set of dependent variables Y\n",
    "\n",
    "Let us start with the following data for X and Y:"
   ]
  },
  {
   "cell_type": "code",
   "execution_count": 1,
   "id": "f5b97a99-757e-4426-bf76-d51b6d59c96c",
   "metadata": {},
   "outputs": [],
   "source": [
    "import numpy as np\n",
    "xdata = np.array([-0.18, -0.14, -0.1, -0.06, -0.02,  0.02,  0.06,  0.1,  0.14])\n",
    "ydata = np.array([2.243, 2.217, 2.201, 2.175, 2.132, 2.116, 2.083, 2.016, 2.004])"
   ]
  },
  {
   "cell_type": "markdown",
   "id": "6094966b-e7a7-42fc-b27d-9a9ab06e0da3",
   "metadata": {},
   "source": [
    "We defined X and Y data as numpy arrays of 9 elements. The X and Y variables have completely different meanings, while the elements of X have fixed values, the elements of Y are random variables. \n",
    "\n",
    "A least-squares fit assumes that each element of Y follows a *normal distribution*, $y_i \\sim \\mathcal{N}(\\mu_i, \\sigma_i)$, where $\\mu_i$ is the mean of the distribution, while $\\sigma_i$ is its standard deviation. While the means $\\mu_i$ are adjusted during the fit, the corresponding standard deviations $\\sigma_i$ are known:"
   ]
  },
  {
   "cell_type": "code",
   "execution_count": 2,
   "id": "c0be5e14-056e-4cd0-8698-de3b078565f7",
   "metadata": {},
   "outputs": [],
   "source": [
    "ysigma = np.array([0.008, 0.008, 0.01, 0.009, 0.011, 0.016, 0.018, 0.021, 0.017])"
   ]
  },
  {
   "cell_type": "markdown",
   "id": "af6b4747-d87b-4143-84e0-142e4d960618",
   "metadata": {},
   "source": [
    "## Fit model "
   ]
  },
  {
   "cell_type": "markdown",
   "id": "a7deecb9-b00b-4e79-a19b-28f39cea7088",
   "metadata": {},
   "source": [
    "We model the means $\\mu_i$ with the function: "
   ]
  },
  {
   "cell_type": "code",
   "execution_count": 3,
   "id": "1c48a026-21a3-41f1-a296-ea8f729cbdc6",
   "metadata": {},
   "outputs": [],
   "source": [
    "def fit_model(x: np.array, par: np.array) -> np.array:\n",
    "    return par[0] + par[1] * x"
   ]
  },
  {
   "cell_type": "markdown",
   "id": "beb29133-a367-4643-a498-31e16f7b3473",
   "metadata": {},
   "source": [
    "The first argument of this function is a numpy array with the independent variable X, and the second one is another numpy array containing the unknown parameters to be estimated during the fit. Since the model function is linear in the fit parameters, this special case is referred to as a *linear least-squares* regression.\n",
    "\n",
    "To ensure the smooth processing by LikeFit, the fit model has to be vectorized in x. This means the model function has to accept a one-dimensional array containing n values of x and return an array with n values of the fit model. "
   ]
  },
  {
   "cell_type": "markdown",
   "id": "9e3d9760-d48e-4398-b755-e5af5c479644",
   "metadata": {},
   "source": [
    "## Fitter construction"
   ]
  },
  {
   "cell_type": "markdown",
   "id": "ef625b0c-0f32-46cb-ab0d-1f2c36711624",
   "metadata": {},
   "source": [
    "As the dependent variable Y follows a normal distribution and the fit model is linear in the fit parameters, we select the LinearLeastSquares fitter. We load the data and the fit model in the fitter but do not fit yet:"
   ]
  },
  {
   "cell_type": "code",
   "execution_count": 4,
   "id": "a6164ee9-5b8f-47eb-8379-f6efe7592ea5",
   "metadata": {},
   "outputs": [],
   "source": [
    "import likefit\n",
    "fitter = likefit.LinearLeastSquares(xdata, ydata, fit_model, ysigma)"
   ]
  },
  {
   "cell_type": "markdown",
   "id": "2395adb4-a29e-4695-a4bf-86fd6d209676",
   "metadata": {},
   "source": [
    "## Fit the data"
   ]
  },
  {
   "cell_type": "markdown",
   "id": "91476d6c-c568-411a-a9fb-7f8d0bf9e8bb",
   "metadata": {},
   "source": [
    "We now run the fitter:"
   ]
  },
  {
   "cell_type": "code",
   "execution_count": 5,
   "id": "103c9336-0f6e-47c8-ad90-cc4f7b288aba",
   "metadata": {},
   "outputs": [
    {
     "name": "stdout",
     "output_type": "stream",
     "text": [
      "0\n"
     ]
    }
   ],
   "source": [
    "fit_status = fitter.fit()\n",
    "print(fit_status)"
   ]
  },
  {
   "cell_type": "markdown",
   "id": "e55069da-8fa0-4da2-9a21-af81421ea321",
   "metadata": {},
   "source": [
    "We ensured that the fit is successful by checking that the fit method returned 0."
   ]
  },
  {
   "cell_type": "markdown",
   "id": "08abfff6-f817-4b05-96b6-762f06463a1d",
   "metadata": {},
   "source": [
    "## Fit results"
   ]
  },
  {
   "cell_type": "markdown",
   "id": "f73c10a7-7115-4baa-ae9c-b3f9b5e2e78f",
   "metadata": {},
   "source": [
    "All the results are stored internally within the fitter object after running the `fit` method. We print a summary of the fit results:"
   ]
  },
  {
   "cell_type": "code",
   "execution_count": 6,
   "id": "991d2b99-86eb-4c3f-a592-f3d4ce864f31",
   "metadata": {},
   "outputs": [
    {
     "name": "stdout",
     "output_type": "stream",
     "text": [
      "Fit summary\n",
      "Estimators: [ 2.1192891  -0.72690669]\n",
      "Errors: [0.00490906 0.04111108]\n",
      "Covariance matrix: [[2.40988624e-05 1.34418437e-04]\n",
      " [1.34418437e-04 1.69012059e-03]]\n",
      "Correlation matrix: [[1.         0.66604216]\n",
      " [0.66604216 1.        ]]\n",
      "Chi square: 7.115277528888212\n",
      "Degrees of freedom: 7\n",
      "Pvalue: 0.41697680682713667\n"
     ]
    }
   ],
   "source": [
    "fitter.print_results()"
   ]
  },
  {
   "cell_type": "markdown",
   "id": "31fa0cd2-31b1-4fa9-83bd-26626ce4cb22",
   "metadata": {},
   "source": [
    "Different fit results can be retrieved from the fitter. For example, we get the estimators and their errors and print them in a nice format: "
   ]
  },
  {
   "cell_type": "code",
   "execution_count": 7,
   "id": "44c3b2f5-5d8c-40ac-aa28-524f9ef9da65",
   "metadata": {},
   "outputs": [
    {
     "name": "stdout",
     "output_type": "stream",
     "text": [
      "Intercept: 2.1193 ± 0.0049\n",
      "Slope: -0.727 ± 0.041\n"
     ]
    }
   ],
   "source": [
    "estimators = fitter.get_estimators()\n",
    "errors = fitter.get_errors()\n",
    "print(f\"Intercept: {estimators[0]:.4f} ± {errors[0]:.4f}\")\n",
    "print(f\"Slope: {estimators[1]:.3f} ± {errors[1]:.3f}\")"
   ]
  },
  {
   "cell_type": "markdown",
   "id": "b4331894-22c2-4257-891d-9087990380f4",
   "metadata": {},
   "source": [
    "We also report the correlation coefficient between the estimators of the two fit parameters. We pick up the correlation coefficient from the correlation matrix:"
   ]
  },
  {
   "cell_type": "code",
   "execution_count": 8,
   "id": "2f356881-97f7-4f7d-a223-fe53f61cfe82",
   "metadata": {},
   "outputs": [
    {
     "name": "stdout",
     "output_type": "stream",
     "text": [
      "Correlation coefficient: 0.67\n"
     ]
    }
   ],
   "source": [
    "correlation_matrix = fitter.get_correlation_matrix()\n",
    "correlation_coefficient = correlation_matrix[1,0]\n",
    "print(f\"Correlation coefficient: {correlation_coefficient:.2f}\")"
   ]
  },
  {
   "cell_type": "markdown",
   "id": "095b85db-3410-4b34-aa54-d829ca9953dd",
   "metadata": {},
   "source": [
    "We finally evaluate the goodness of the fit with a chi-square test:"
   ]
  },
  {
   "cell_type": "code",
   "execution_count": 9,
   "id": "1aa39b39-c60c-4c0a-8540-bf2e4480c2ff",
   "metadata": {},
   "outputs": [
    {
     "name": "stdout",
     "output_type": "stream",
     "text": [
      "Degrees of freedom: 7\n",
      "Observed chi-square: 7.1\n",
      "Pvalue: 0.42\n"
     ]
    }
   ],
   "source": [
    "degrees_of_freedom = fitter.get_ndof()\n",
    "print(f\"Degrees of freedom: {degrees_of_freedom}\")\n",
    "chi_square = fitter.get_chi_square()\n",
    "print(f\"Observed chi-square: {chi_square:.1f}\")\n",
    "pvalue = fitter.get_pvalue()\n",
    "print(f\"Pvalue: {pvalue:.2f}\")"
   ]
  },
  {
   "cell_type": "markdown",
   "id": "b40972e9-6c36-43c7-939f-226d7662ed5b",
   "metadata": {},
   "source": [
    "The pvalue is far from zero meaning that the fitted model is consistent with the data."
   ]
  },
  {
   "cell_type": "markdown",
   "id": "0ada21f9-ec99-491b-9c15-3d455b240854",
   "metadata": {},
   "source": [
    "## Fit plot"
   ]
  },
  {
   "cell_type": "markdown",
   "id": "faf73eb6-c09d-42f7-8c64-bdc0b294a026",
   "metadata": {},
   "source": [
    "LikeFit provides a method to display a basic fit plot. In addition to the data and the fit, the plot also shows the error band of the fit: "
   ]
  },
  {
   "cell_type": "code",
   "execution_count": 10,
   "id": "fb8445a4-8a64-46dd-920f-5b8efecdee1b",
   "metadata": {
    "scrolled": true
   },
   "outputs": [
    {
     "data": {
      "image/png": "[encoded data removed]",
      "text/plain": [
       "<Figure size 480x360 with 1 Axes>"
      ]
     },
     "metadata": {},
     "output_type": "display_data"
    }
   ],
   "source": [
    "import matplotlib.pyplot as plt\n",
    "fig, ax = plt.subplots()\n",
    "fitter.plot_fit(ax=ax)\n",
    "fig.savefig(\"linear_least_squares.svg\")"
   ]
  },
  {
   "cell_type": "markdown",
   "id": "1da15f5e-cfd6-4671-940e-8f327710419a",
   "metadata": {},
   "source": [
    "The use of the optional argument ax of the method `likefit.LinearLeastSquares.plot_fit` allows saving the plot to a file."
   ]
  },
  {
   "cell_type": "markdown",
   "id": "24069d9a-98e3-4ba6-b515-258f4c125dda",
   "metadata": {},
   "source": [
    "Customized plots of the fit can be generated by accessing the fit resuls.    "
   ]
  }
 ],
 "metadata": {
  "kernelspec": {
   "display_name": "Python 3 (ipykernel)",
   "language": "python",
   "name": "python3"
  },
  "language_info": {
   "codemirror_mode": {
    "name": "ipython",
    "version": 3
   },
   "file_extension": ".py",
   "mimetype": "text/x-python",
   "name": "python",
   "nbconvert_exporter": "python",
   "pygments_lexer": "ipython3",
   "version": "3.10.12"
  }
 },
 "nbformat": 4,
 "nbformat_minor": 5
}
