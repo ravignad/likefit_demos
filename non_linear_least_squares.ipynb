{
 "cells": [
  {
   "cell_type": "markdown",
   "id": "5335ad7a-3233-47a4-9005-2890ec80b0e4",
   "metadata": {},
   "source": [
    "# Least-squares regression"
   ]
  },
  {
   "cell_type": "markdown",
   "id": "daec43a3-7154-43a1-bc6f-2a077b1e7b8c",
   "metadata": {},
   "source": [
    "In the previous *linear* least-squares regression the dependent variable Y followed a normal distribution and the fit model was linear in the parameters.\n",
    "We are now going to consider the case where Y is also normal but the fit model is not linear in the parameters."
   ]
  },
  {
   "cell_type": "markdown",
   "id": "bb13c46d-2271-4fc4-b303-461c68f93b02",
   "metadata": {},
   "source": [
    "Let us start by defining the data:"
   ]
  },
  {
   "cell_type": "code",
   "execution_count": null,
   "id": "14468dab-d6e6-4e2f-a781-27bcce1bd95a",
   "metadata": {},
   "outputs": [],
   "source": [
    "import numpy as np\n",
    "xdata = np.array([0., 0.2, 0.4, 0.6, 0.8, 1., 1.2, 1.4, 1.6, 1.8, 2.])\n",
    "ydata = np.array([0.92, 0.884, 0.626, 0.504, 0.481, 0.417, 0.288, 0.302, 0.177, 0.13, 0.158])\n",
    "ysigma = np.array([0.1, 0.082, 0.067, 0.055, 0.045, 0.037, 0.03, 0.025, 0.02, 0.017, 0.014])"
   ]
  },
  {
   "cell_type": "markdown",
   "id": "12ec65e0-8504-42db-b007-c848367b0200",
   "metadata": {},
   "source": [
    "And a fit model depending on two parameters:"
   ]
  },
  {
   "cell_type": "code",
   "execution_count": null,
   "id": "9f1cad04-90f9-4d15-8167-5df034bde546",
   "metadata": {},
   "outputs": [],
   "source": [
    "def fit_model(x, par):\n",
    "    return par[0] * np.exp(-par[1] * x)"
   ]
  },
  {
   "cell_type": "markdown",
   "id": "b5bd5ec3-11b8-4977-a95a-d5a14184a94c",
   "metadata": {},
   "source": [
    "We made sure that the fit model is vectorized in the independent variable $x$ by using the numpy function `np.exp`.\n"
   ]
  },
  {
   "cell_type": "markdown",
   "id": "08cba116-22ba-4681-81f9-7087a9010e13",
   "metadata": {},
   "source": [
    "Let us create the fitter for a non-linear least-squares fit using the `LeastSquares` class:"
   ]
  },
  {
   "cell_type": "code",
   "execution_count": null,
   "id": "9f4f3b5a-09c3-4f9a-ad1e-450a76730209",
   "metadata": {},
   "outputs": [],
   "source": [
    "import likefit\n",
    "fitter = likefit.LeastSquares(xdata, ydata, fit_model, ysigma)"
   ]
  },
  {
   "cell_type": "markdown",
   "id": "73d571d6-5f59-4bef-8bd8-3e17dc5ee8a9",
   "metadata": {},
   "source": [
    "The fitter required the data and the fit model just as in the linear case.  "
   ]
  },
  {
   "cell_type": "markdown",
   "id": "df4db9ae-8d5d-40f7-a82f-d78ee8f9fb60",
   "metadata": {},
   "source": [
    "We run the fitter by calling the `fit` method:"
   ]
  },
  {
   "cell_type": "code",
   "execution_count": null,
   "id": "5dae05df-69a8-417c-8a09-c0f15bbc3450",
   "metadata": {},
   "outputs": [],
   "source": [
    "initial_parameters = np.array([1, -1])\n",
    "fit_result = fitter.fit(initial_parameters)\n",
    "print(fit_result)"
   ]
  },
  {
   "cell_type": "markdown",
   "id": "63d78375-1eab-4d42-8c56-b303e1614fb8",
   "metadata": {},
   "source": [
    "In contrast with the linear least-squares case, we now had to provide some initial values for the fit parameters.\n",
    "For this reason, the performance, and the stability of the fit, **always** use the linear fitter for linear models. \n",
    "We again ensured that the fit was successful by checking the return value of the `fit` method."
   ]
  },
  {
   "cell_type": "markdown",
   "id": "11b9ad1d-e529-4753-bbf8-7fcf4a2b0365",
   "metadata": {},
   "source": [
    "The fit results are:"
   ]
  },
  {
   "cell_type": "code",
   "execution_count": null,
   "id": "cfb70c6f-de3f-4a7c-b123-5455954e6869",
   "metadata": {},
   "outputs": [],
   "source": [
    "fitter.print_results()"
   ]
  },
  {
   "cell_type": "markdown",
   "id": "978f4342-2d16-4ce6-b985-c79e81ee6fde",
   "metadata": {},
   "source": [
    "We plot the fit:"
   ]
  },
  {
   "cell_type": "code",
   "execution_count": null,
   "id": "3dda174e-08e9-4109-9e0d-b196fc653976",
   "metadata": {},
   "outputs": [],
   "source": [
    "fitter.plot_fit()"
   ]
  },
  {
   "cell_type": "markdown",
   "id": "93688806-f456-4120-a84b-6e9b980723a4",
   "metadata": {},
   "source": [
    "We finally plot a density map of the cost function minimized during the fit including the related 1σ and 2σ confidence regions of the parameters."
   ]
  },
  {
   "cell_type": "code",
   "execution_count": null,
   "id": "d2703f3b-a512-4391-8d8c-9b8e7b03f012",
   "metadata": {},
   "outputs": [],
   "source": [
    "import matplotlib.pyplot as plt\n",
    "fig, ax = plt.subplots()\n",
    "ax.set_xlabel(\"Normalization\")\n",
    "ax.set_ylabel(\"Index\")\n",
    "fitter.plot_confidence_regions(parx_index=0, pary_index=1, ax=ax)"
   ]
  },
  {
   "cell_type": "code",
   "execution_count": null,
   "id": "0f9f4b3e-0a1e-4a46-86aa-ba14144630d6",
   "metadata": {},
   "outputs": [],
   "source": [
    "help(fitter.plot_confidence_regions)"
   ]
  },
  {
   "cell_type": "markdown",
   "id": "de4dcbed-0e3c-4216-ae59-3f127effaf06",
   "metadata": {},
   "source": [
    "The parameters to display are selected by their index. This is useful when the model has more than 2 parameters. We also provide some meaningful names for the fit parameters. "
   ]
  }
 ],
 "metadata": {
  "kernelspec": {
   "display_name": "Python 3 (ipykernel)",
   "language": "python",
   "name": "python3"
  },
  "language_info": {
   "codemirror_mode": {
    "name": "ipython",
    "version": 3
   },
   "file_extension": ".py",
   "mimetype": "text/x-python",
   "name": "python",
   "nbconvert_exporter": "python",
   "pygments_lexer": "ipython3",
   "version": "3.10.12"
  }
 },
 "nbformat": 4,
 "nbformat_minor": 5
}
